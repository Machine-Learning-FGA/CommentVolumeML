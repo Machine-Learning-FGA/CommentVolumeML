{
 "cells": [
  {
   "cell_type": "markdown",
   "metadata": {},
   "source": [
    "# Obtendo os dados\n",
    "    A primeira amostra que trabalharemos consistem em 40948 inputs de treinamento e 10043 inputs de teste, ambos com 53 colunas cada.\n",
    "    Lembrando que para rodar o código parser.py é necessário descompactar o arquivo do dataset.\n",
    "    Primeiro precisamos obter as pastas onde se encontram os arquivos. Para isso usaremos o import os (ou Operating system)"
   ]
  },
  {
   "cell_type": "code",
   "execution_count": 1,
   "metadata": {},
   "outputs": [
    {
     "name": "stdout",
     "output_type": "stream",
     "text": [
      "/home/brilhante/git/ML/CommentVolumeML/Dataset/Training\n",
      "/home/brilhante/git/ML/CommentVolumeML/Dataset/Testing\n"
     ]
    }
   ],
   "source": [
    "import os\n",
    "# Load dirs name\n",
    "cur_dir = os.path.realpath('.')\n",
    "data_dir = os.path.join(cur_dir,'Dataset')\n",
    "# Obtaining directories\n",
    "train_dir = os.path.join(data_dir,'Training')\n",
    "print(train_dir)\n",
    "test_dir = os.path.join(data_dir,'Testing')\n",
    "print(test_dir)"
   ]
  },
  {
   "cell_type": "markdown",
   "metadata": {},
   "source": [
    "    Agora com os diretórios em mãos podemos obter os arquivos do tipo csv para teste e treinamento. Ao final iremos ordenar a lista para podemos acessar o arquivos que queremos pelo indice, ja que não necessáriamente ele vai ler em ordem alfabetica."
   ]
  },
  {
   "cell_type": "code",
   "execution_count": 2,
   "metadata": {
    "collapsed": true
   },
   "outputs": [],
   "source": [
    "list_train = []\n",
    "list_test = []\n",
    "# Obtain train files\n",
    "for x in os.listdir(train_dir):\n",
    "    if(x.endswith(\".csv\")):\n",
    "        list_train.append(os.path.join(train_dir, x))\n",
    "\n",
    "for x in os.listdir(test_dir):\n",
    "    if(x.endswith(\".csv\")):\n",
    "        list_test.append(os.path.join(test_dir, x))\n",
    "\n",
    "# Sorting array to access the required ones\n",
    "list_train = sorted(list_train)\n",
    "list_test = sorted(list_test)"
   ]
  },
  {
   "cell_type": "markdown",
   "metadata": {},
   "source": [
    "    Tendo os paths dos arquivos em mãos podemos obter os dados. Para fazer isso de forma eficiente podemos utilizar a biblioteca Pandas."
   ]
  },
  {
   "cell_type": "code",
   "execution_count": 9,
   "metadata": {},
   "outputs": [
    {
     "name": "stdout",
     "output_type": "stream",
     "text": [
      "Quantidade de dados de treinamento\n",
      "40948\n",
      "Quantidade de dados de teste\n",
      "10043\n"
     ]
    }
   ],
   "source": [
    "import pandas\n",
    "\n",
    "trainData = pandas.DataFrame.from_csv(list_train[0])\n",
    "testData = pandas.DataFrame.from_csv(list_test[0])\n",
    "print(\"Quantidade de dados de treinamento\")\n",
    "print(len(trainData))\n",
    "print(\"Quantidade de dados de teste\")\n",
    "print(len(testData))"
   ]
  },
  {
   "cell_type": "code",
   "execution_count": null,
   "metadata": {
    "collapsed": true
   },
   "outputs": [],
   "source": []
  },
  {
   "cell_type": "code",
   "execution_count": null,
   "metadata": {
    "collapsed": true
   },
   "outputs": [],
   "source": []
  }
 ],
 "metadata": {
  "kernelspec": {
   "display_name": "Python 3",
   "language": "python",
   "name": "python3"
  },
  "language_info": {
   "codemirror_mode": {
    "name": "ipython",
    "version": 3
   },
   "file_extension": ".py",
   "mimetype": "text/x-python",
   "name": "python",
   "nbconvert_exporter": "python",
   "pygments_lexer": "ipython3",
   "version": "3.6.1"
  }
 },
 "nbformat": 4,
 "nbformat_minor": 2
}
