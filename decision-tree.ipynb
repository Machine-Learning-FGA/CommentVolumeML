{
 "cells": [
  {
   "cell_type": "code",
   "execution_count": null,
   "metadata": {
    "collapsed": false,
    "deletable": true,
    "editable": true
   },
   "outputs": [],
   "source": [
    "import os\n",
    "import pandas as pd\n",
    "import matplotlib.pyplot as plt\n",
    "import numpy as np\n",
    "import time"
   ]
  },
  {
   "cell_type": "code",
   "execution_count": null,
   "metadata": {
    "collapsed": false,
    "deletable": true,
    "editable": true
   },
   "outputs": [],
   "source": [
    "def obtain_directories():\n",
    "    # Load dirs name\n",
    "    cur_dir = os.path.realpath('.')\n",
    "    data_dir = os.path.join(cur_dir,'Dataset')\n",
    "    # Obtaining directories\n",
    "    train_dir = os.path.join(data_dir,'Training')\n",
    "    print(train_dir)\n",
    "    test_dir = os.path.join(data_dir,'Testing')\n",
    "    print(test_dir)\n",
    "\n",
    "    list_train = []\n",
    "    list_test = []\n",
    "    # Obtain train files\n",
    "    for x in os.listdir(train_dir):\n",
    "        if(x.endswith(\".csv\")):\n",
    "            list_train.append(os.path.join(train_dir, x))\n",
    "\n",
    "    for x in os.listdir(test_dir):\n",
    "        if(x.endswith(\".csv\")):\n",
    "            list_test.append(os.path.join(test_dir, x))\n",
    "\n",
    "    # Sorting array\n",
    "    list_train = sorted(list_train)\n",
    "    list_test = sorted(list_test)\n",
    "\n",
    "    print(\"Obtaining folders...\")\n",
    "    \n",
    "    return list_train, list_test\n",
    "\n",
    "def obtain_data(train, test):\n",
    "    t0 = time.time()\n",
    "    trainData = pandas.DataFrame.from_csv(train)\n",
    "    testData = pandas.DataFrame.from_csv(test)\n",
    "\n",
    "    print(\"Obtaining data...\")\n",
    "\n",
    "    print (\"It took\", time.time() - t0,\"to obtain data\") \n",
    "    \n",
    "    return trainData, testData\n",
    "\n",
    "trainFolders, testFolders = obtain_directories()\n",
    "trainData, testData = obtain_data(trainFolders[0],testFolders[0])\n",
    "\n"
   ]
  },
  {
   "cell_type": "code",
   "execution_count": null,
   "metadata": {
    "collapsed": false,
    "deletable": true,
    "editable": true
   },
   "outputs": [],
   "source": [
    "X = trainData.iloc[:, :-1].values\n",
    "y = trainData.iloc[:, -1].values\n",
    "\n",
    "print (X)"
   ]
  },
  {
   "cell_type": "code",
   "execution_count": null,
   "metadata": {
    "collapsed": false,
    "deletable": true,
    "editable": true
   },
   "outputs": [],
   "source": [
    "from sklearn.tree import DecisionTreeRegressor\n",
    "\n",
    "def decision_tree_regressor(X, y):\n",
    "    # Decision Tree Regression \n",
    "    regressor = DecisionTreeRegressor(random_state = 0)\n",
    "    regressor.fit(X, y)\n",
    "\n",
    "    y_predicted = regressor.predict(X)\n",
    "\n",
    "    print(\"Dataset: \", X)\n",
    "    print(\"Label: \", y)\n",
    "    print(\"Predicted: \", y_predicted)\n",
    "\n",
    "    mistakes = 0\n",
    "\n",
    "    for i, j in zip(y, y_predicted):\n",
    "        if not i == j:\n",
    "            mistakes += 1\n",
    "\n",
    "    accuracy = (len(y_predicted) - mistakes) / len(y_predicted)\n",
    "\n",
    "    print(\"Number of mispredicted data: \", mistakes)\n",
    "    print(\"Decision Tree Overall Accuracy: {0:.4f}\".format(accuracy), \"%\")\n",
    "    \n",
    "decision_tree_regressor(X, y)"
   ]
  }
 ],
 "metadata": {
  "kernelspec": {
   "display_name": "Python 3",
   "language": "python",
   "name": "python3"
  },
  "language_info": {
   "codemirror_mode": {
    "name": "ipython",
    "version": 3
   },
   "file_extension": ".py",
   "mimetype": "text/x-python",
   "name": "python",
   "nbconvert_exporter": "python",
   "pygments_lexer": "ipython3",
   "version": "3.5.2"
  }
 },
 "nbformat": 4,
 "nbformat_minor": 2
}
