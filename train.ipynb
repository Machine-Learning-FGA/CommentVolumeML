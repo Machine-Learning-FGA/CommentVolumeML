{
 "cells": [
  {
   "cell_type": "markdown",
   "metadata": {
    "deletable": true,
    "editable": true
   },
   "source": [
    "# Machine Learning\n",
    "\n",
    "## Facebook Comment Volume \n",
    "\n",
    "## Regression\n"
   ]
  },
  {
   "cell_type": "code",
   "execution_count": null,
   "metadata": {
    "collapsed": false,
    "deletable": true,
    "editable": true
   },
   "outputs": [],
   "source": [
    "import os\n",
    "import pandas as pd\n",
    "import matplotlib.pyplot as plt\n",
    "import numpy as np\n",
    "import time"
   ]
  },
  {
   "cell_type": "code",
   "execution_count": null,
   "metadata": {
    "collapsed": false,
    "deletable": true,
    "editable": true
   },
   "outputs": [],
   "source": [
    "def obtain_directories():\n",
    "    # Load dirs name\n",
    "    cur_dir = os.path.realpath('.')\n",
    "    data_dir = os.path.join(cur_dir,'Dataset')\n",
    "    # Obtaining directories\n",
    "    train_dir = os.path.join(data_dir,'Training')\n",
    "    print(train_dir)\n",
    "    test_dir = os.path.join(data_dir,'Testing')\n",
    "    print(test_dir)\n",
    "\n",
    "    list_train = []\n",
    "    list_test = []\n",
    "    # Obtain train files\n",
    "    for x in os.listdir(train_dir):\n",
    "        if(x.endswith(\".csv\")):\n",
    "            list_train.append(os.path.join(train_dir, x))\n",
    "\n",
    "    for x in os.listdir(test_dir):\n",
    "        if(x.endswith(\".csv\")):\n",
    "            list_test.append(os.path.join(test_dir, x))\n",
    "\n",
    "    # Sorting array\n",
    "    list_train = sorted(list_train)\n",
    "    list_test = sorted(list_test)\n",
    "\n",
    "    print(\"Obtaining folders...\")\n",
    "    \n",
    "    return list_train, list_test\n",
    "\n",
    "def obtain_data(train, test):\n",
    "    t0 = time.time()\n",
    "    trainData = pd.DataFrame.from_csv(train)\n",
    "    testData = pd.DataFrame.from_csv(test)\n",
    "\n",
    "    print(\"Obtaining data...\")\n",
    "\n",
    "    print(\"It took {0:.2f}\".format(time.time() - t0),\"seconds to obtain data\") \n",
    "    \n",
    "    return trainData, testData\n",
    "\n",
    "trainFolders, testFolders = obtain_directories()\n",
    "trainData, testData = obtain_data(trainFolders[0],testFolders[0])\n",
    "\n"
   ]
  },
  {
   "cell_type": "code",
   "execution_count": null,
   "metadata": {
    "collapsed": false,
    "deletable": true,
    "editable": true
   },
   "outputs": [],
   "source": [
    "# Set features and independent variables vector\n",
    "X = trainData.iloc[:, :-1].values\n",
    "y = trainData.iloc[:, -1].values\n",
    "\n",
    "print(\"X values and Y values ready for training!!!\")"
   ]
  },
  {
   "cell_type": "markdown",
   "metadata": {
    "deletable": true,
    "editable": true
   },
   "source": [
    "## Decision Tree Regression\n",
    "![](http://scikit-learn.org/stable/_images/sphx_glr_plot_tree_regression_001.png)\n"
   ]
  },
  {
   "cell_type": "code",
   "execution_count": null,
   "metadata": {
    "collapsed": false,
    "deletable": true,
    "editable": true
   },
   "outputs": [],
   "source": [
    "from sklearn.tree import DecisionTreeRegressor\n",
    "from sklearn.metrics import explained_variance_score\n",
    "\n",
    "def decision_tree_regressor(X, y):\n",
    "    print(\"Runnning Regression Decision Tree...\")\n",
    "    \n",
    "    t0 = time.time()\n",
    "    \n",
    "    regressor = DecisionTreeRegressor(random_state = 0)\n",
    "    regressor.fit(X, y)\n",
    "\n",
    "    y_predicted = regressor.predict(X)\n",
    "\n",
    "    print(\"Label: \", y)\n",
    "    print(\"Predicted: \", y_predicted)\n",
    "\n",
    "    print(\"Decision Tree Overall Accuracy: {0:.4f}\".format(explained_variance_score(y, y_predicted)), \"%\")\n",
    "    \n",
    "    print(\"It took {0:.2f}\".format(time.time() - t0),\"seconds to run Decision Tree Regressor\") \n",
    "    \n",
    "decision_tree_regressor(X, y)"
   ]
  },
  {
   "cell_type": "markdown",
   "metadata": {
    "collapsed": true,
    "deletable": true,
    "editable": true
   },
   "source": [
    "## Random Forest Regression"
   ]
  },
  {
   "cell_type": "code",
   "execution_count": null,
   "metadata": {
    "collapsed": false,
    "deletable": true,
    "editable": true
   },
   "outputs": [],
   "source": [
    "from sklearn.ensemble import RandomForestRegressor\n",
    "from sklearn.metrics import explained_variance_score\n",
    "\n",
    "def random_forest_regressor(X,y):\n",
    "    t0 = time.time()\n",
    "    # n_trees = number of trees\n",
    "    n_trees = 10\n",
    "        \n",
    "    print(\"Runnning Random Forest with\",n_trees,\"Trees...\")\n",
    "    regressor = RandomForestRegressor(n_estimators = n_trees, random_state = 0)\n",
    "    regressor.fit(X, y)\n",
    "    \n",
    "    y_predicted = regressor.predict(X)\n",
    "\n",
    "    print(\"Label: \", y)\n",
    "    print(\"Predicted: \", y_predicted)\n",
    "    \n",
    "    print(\"Random Forest Overall Accuracy: {0:.4f}\".format(explained_variance_score(y, y_predicted)), \"%\")\n",
    "    print(\"It took {0:.2f}\".format(time.time() - t0),\"seconds to run Random Forest Regression\") \n",
    "    \n",
    "random_forest_regressor(X, y)"
   ]
  }
 ],
 "metadata": {
  "kernelspec": {
   "display_name": "Python 3",
   "language": "python",
   "name": "python3"
  },
  "language_info": {
   "codemirror_mode": {
    "name": "ipython",
    "version": 3
   },
   "file_extension": ".py",
   "mimetype": "text/x-python",
   "name": "python",
   "nbconvert_exporter": "python",
   "pygments_lexer": "ipython3",
   "version": "3.5.2"
  }
 },
 "nbformat": 4,
 "nbformat_minor": 2
}
