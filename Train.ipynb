{
 "cells": [
  {
   "cell_type": "code",
   "execution_count": 2,
   "metadata": {
    "collapsed": true,
    "deletable": true,
    "editable": true
   },
   "outputs": [],
   "source": [
    "import os\n",
    "import pandas as pd\n",
    "import matplotlib.pyplot as plt\n",
    "import numpy as np\n",
    "from sklearn.tree import DecisionTreeRegressor"
   ]
  },
  {
   "cell_type": "code",
   "execution_count": 3,
   "metadata": {
    "collapsed": false,
    "deletable": true,
    "editable": true
   },
   "outputs": [],
   "source": [
    "train_dir = os.path.realpath('./Dataset/Dataset')\n",
    "train_files = os.path.join(train_dir, 'Training')"
   ]
  },
  {
   "cell_type": "code",
   "execution_count": null,
   "metadata": {
    "collapsed": false,
    "deletable": true,
    "editable": true
   },
   "outputs": [
    {
     "name": "stdout",
     "output_type": "stream",
     "text": [
      "Dataset X: [[  6.34995000e+05   0.00000000e+00   4.63000000e+02 ...,   0.00000000e+00\n",
      "    1.00000000e+00   0.00000000e+00]\n",
      " [  6.34995000e+05   0.00000000e+00   4.63000000e+02 ...,   0.00000000e+00\n",
      "    0.00000000e+00   1.00000000e+00]\n",
      " [  6.34995000e+05   0.00000000e+00   4.63000000e+02 ...,   0.00000000e+00\n",
      "    0.00000000e+00   0.00000000e+00]\n",
      " ..., \n",
      " [  7.17011100e+06   7.00000000e+01   4.97000000e+05 ...,   1.00000000e+00\n",
      "    0.00000000e+00   0.00000000e+00]\n",
      " [  7.17011100e+06   7.00000000e+01   4.97000000e+05 ...,   0.00000000e+00\n",
      "    1.00000000e+00   0.00000000e+00]\n",
      " [  7.17011100e+06   7.00000000e+01   4.97000000e+05 ...,   0.00000000e+00\n",
      "    1.00000000e+00   0.00000000e+00]]\n",
      "Labels Y: [ 0  0  0 ..., 72 28 11]\n",
      "predict: [   0.36005521    0.36005521    0.36005521 ...,  119.58241758   46.67760342\n",
      "   46.67760342]\n"
     ]
    }
   ],
   "source": [
    "dataset = pd.read_csv('../Dataset/Dataset/Training/Features_Variant_1.csv')\n",
    "X = dataset.iloc[:, :-1].values\n",
    "y = dataset.iloc[:, -1].values\n",
    "\n",
    "# Fit regression model\n",
    "regr_2 = DecisionTreeRegressor(max_depth=5)\n",
    "regr_2.fit(X, y)\n",
    "\n",
    "X_test = X\n",
    "y_2 = regr_2.predict(X_test)\n",
    "\n",
    "print(\"Dataset X: \" + str(X))\n",
    "print(\"Labels Y: \" + str(y))\n",
    "print(\"predict: \" + str(y_2))\n",
    "\n",
    "plt.figure()\n",
    "# plt.scatter(X, y, s=20, edgecolor=\"black\",\n",
    "#             c=\"darkorange\", label=\"data\")\n",
    "plt.plot(X_test, y_2, color=\"yellowgreen\", label=\"max_depth=5\", linewidth=2)\n",
    "plt.xlabel(\"data\")\n",
    "plt.ylabel(\"target\")\n",
    "plt.title(\"Decision Tree Regression\")\n",
    "plt.legend()\n",
    "plt.show()\n"
   ]
  }
 ],
 "metadata": {
  "kernelspec": {
   "display_name": "Python 3",
   "language": "python",
   "name": "python3"
  },
  "language_info": {
   "codemirror_mode": {
    "name": "ipython",
    "version": 3
   },
   "file_extension": ".py",
   "mimetype": "text/x-python",
   "name": "python",
   "nbconvert_exporter": "python",
   "pygments_lexer": "ipython3",
   "version": "3.5.2"
  }
 },
 "nbformat": 4,
 "nbformat_minor": 2
}
