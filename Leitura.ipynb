{
 "cells": [
  {
   "cell_type": "markdown",
   "metadata": {},
   "source": [
    "# Algoritmo K-nearest neighbors\n",
    "\n",
    "No reconhecimento de padrões o algoritmo KNN é um método não para-métrico usado para classificação e regressão.\n",
    "Nos dois casos, o input consiste nos k exemplos de treinamento mais proximos no espaço de amostragem. O output depende se o Knn é usado para classificação ou regressão.\n",
    "\n",
    "KNN é um tipo de aprendizado baseado em instâncias, onde a função é aproximada apenas localmente e toda a computação é deferida até a classificação."
   ]
  },
  {
   "cell_type": "code",
   "execution_count": 1,
   "metadata": {},
   "outputs": [],
   "source": [
    "import pandas as pd\n",
    "from sklearn.neighbors import KNeighborsRegressor\n",
    "from sklearn.model_selection import train_test_split\n",
    "import math "
   ]
  },
  {
   "cell_type": "code",
   "execution_count": 2,
   "metadata": {},
   "outputs": [],
   "source": [
    "columns = [\"Page Popularity/likes\", \"PageCheckinsâ€™s\", \"Pagetalkingabout\",\n",
    "           \"Page Category\", \"Derived\", \"Derived\", \"Derived\", \"Derived\",\n",
    "           \"Derived\", \"Derived\", \"Derived\", \"Derived\", \"Derived\",\n",
    "           \"Derived\", \"Derived\", \"Derived\", \"Derived\", \"Derived\", \n",
    "           \"Derived\", \"Derived\", \"Derived\", \"Derived\", \"Derived\", \n",
    "           \"Derived\", \"Derived\", \"Derived\", \"Derived\", \"Derived\",\n",
    "           \"Derived\", \"CC1\", \"CC2\", \"CC3\", \"CC4\", \"CC5\", \"Basetime\",\n",
    "           \"Postlength\", \"PostShareCount\", \"PostPromotionStatus\", \"HLocal\",\n",
    "           \"PostSunday\", \"PostMonday\", \"PostTuesday\", \"PostWednesday\", \"PostThursday\", \"PostFriday\", \"PostSaturday\",\n",
    "           \"BaseSunday\", \"BaseMonday\", \"BaseTuesday\", \"BaseWednesday\", \"BaseThursday\", \"BaseFriday\", \"BaseSaturday\",\n",
    "           \"TargetVariable\"]"
   ]
  },
  {
   "cell_type": "markdown",
   "metadata": {},
   "source": [
    "## Train"
   ]
  },
  {
   "cell_type": "code",
   "execution_count": 3,
   "metadata": {},
   "outputs": [],
   "source": [
    "data_frame = pd.read_csv('Features_Variant_1.csv',delimiter=',', names=columns )\n",
    "target = data_frame.TargetVariable\n",
    "x = data_frame.drop('TargetVariable', 1)"
   ]
  },
  {
   "cell_type": "markdown",
   "metadata": {},
   "source": [
    "## Teste"
   ]
  },
  {
   "cell_type": "code",
   "execution_count": 4,
   "metadata": {},
   "outputs": [],
   "source": [
    "teste = pd.read_csv('Features_Variant_2.csv',delimiter=',', names=columns )\n",
    "target2 = teste.TargetVariable\n",
    "y = teste.drop('TargetVariable', 1)"
   ]
  },
  {
   "cell_type": "code",
   "execution_count": 5,
   "metadata": {},
   "outputs": [
    {
     "data": {
      "text/plain": [
       "10237"
      ]
     },
     "execution_count": 5,
     "metadata": {},
     "output_type": "execute_result"
    }
   ],
   "source": [
    "int(len(data_frame)/4)"
   ]
  },
  {
   "cell_type": "code",
   "execution_count": 6,
   "metadata": {},
   "outputs": [],
   "source": [
    "def trainKnn(x,target,y,target2):\n",
    "    temp = 0\n",
    "    ab = 0\n",
    "    K = 1\n",
    "    while i <= 5:\n",
    "        print(1)\n",
    "        i += 1\n",
    "        K += 2\n",
    "        knn = KNeighborsRegressor(n_neighbors=K)\n",
    "        knn.fit(x,target)\n",
    "        if knn.score(y,target2) > temp:\n",
    "            temp = knn.score(y,target2)\n",
    "            ab = K\n",
    "    print(ab)"
   ]
  },
  {
   "cell_type": "code",
   "execution_count": 7,
   "metadata": {},
   "outputs": [
    {
     "ename": "TypeError",
     "evalue": "trainKnn() missing 1 required positional argument: 'i'",
     "output_type": "error",
     "traceback": [
      "\u001b[0;31m---------------------------------------------------------------------------\u001b[0m",
      "\u001b[0;31mTypeError\u001b[0m                                 Traceback (most recent call last)",
      "\u001b[0;32m<ipython-input-7-99a4882499cd>\u001b[0m in \u001b[0;36m<module>\u001b[0;34m()\u001b[0m\n\u001b[0;32m----> 1\u001b[0;31m \u001b[0mtrainKnn\u001b[0m\u001b[0;34m(\u001b[0m\u001b[0mx\u001b[0m\u001b[0;34m,\u001b[0m\u001b[0mtarget\u001b[0m\u001b[0;34m,\u001b[0m\u001b[0my\u001b[0m\u001b[0;34m,\u001b[0m\u001b[0mtarget2\u001b[0m\u001b[0;34m)\u001b[0m\u001b[0;34m\u001b[0m\u001b[0m\n\u001b[0m",
      "\u001b[0;31mTypeError\u001b[0m: trainKnn() missing 1 required positional argument: 'i'"
     ]
    }
   ],
   "source": [
    "trainKnn(x,target,y,target2)"
   ]
  },
  {
   "cell_type": "code",
   "execution_count": null,
   "metadata": {},
   "outputs": [],
   "source": []
  }
 ],
 "metadata": {
  "kernelspec": {
   "display_name": "Python 3",
   "language": "python",
   "name": "python3"
  },
  "language_info": {
   "codemirror_mode": {
    "name": "ipython",
    "version": 3
   },
   "file_extension": ".py",
   "mimetype": "text/x-python",
   "name": "python",
   "nbconvert_exporter": "python",
   "pygments_lexer": "ipython3",
   "version": "3.5.2"
  }
 },
 "nbformat": 4,
 "nbformat_minor": 2
}
