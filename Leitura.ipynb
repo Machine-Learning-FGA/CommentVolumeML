{
 "cells": [
  {
   "cell_type": "code",
   "execution_count": 2,
   "metadata": {},
   "outputs": [],
   "source": [
    "import pandas as pd"
   ]
  },
  {
   "cell_type": "code",
   "execution_count": 55,
   "metadata": {},
   "outputs": [],
   "source": [
    "columns = [\"Page Popularity/likes\", \"PageCheckinsâ€™s\", \"Pagetalkingabout\",\n",
    "           \"Page Category\", \"Derived\", \"Derived\", \"Derived\", \"Derived\",\n",
    "           \"Derived\", \"Derived\", \"Derived\", \"Derived\", \"Derived\",\n",
    "           \"Derived\", \"Derived\", \"Derived\", \"Derived\", \"Derived\", \n",
    "           \"Derived\", \"Derived\", \"Derived\", \"Derived\", \"Derived\", \n",
    "           \"Derived\", \"Derived\", \"Derived\", \"Derived\", \"Derived\",\n",
    "           \"Derived\", \"CC1\", \"CC2\", \"CC3\", \"CC4\", \"CC5\", \"Basetime\",\n",
    "           \"Postlength\", \"PostShareCount\", \"PostPromotionStatus\", \"HLocal\",\n",
    "           \"PostSunday\", \"PostMonday\", \"PostTuesday\", \"PostWednesday\", \"PostThursday\", \"PostFriday\", \"PostSaturday\",\n",
    "           \"BaseSunday\", \"BaseMonday\", \"BaseTuesday\", \"BaseWednesday\", \"BaseThursday\", \"BaseFriday\", \"BaseSaturday\",\n",
    "           \"TargetVariable\"]"
   ]
  },
  {
   "cell_type": "code",
   "execution_count": 61,
   "metadata": {},
   "outputs": [
    {
     "data": {
      "text/plain": [
       "0          0\n",
       "1          0\n",
       "2          0\n",
       "3          0\n",
       "4          0\n",
       "5          0\n",
       "6          0\n",
       "7          0\n",
       "8          0\n",
       "9          0\n",
       "10         0\n",
       "11         0\n",
       "12         3\n",
       "13         0\n",
       "14         0\n",
       "15         0\n",
       "16         0\n",
       "17         0\n",
       "18         0\n",
       "19         0\n",
       "20         0\n",
       "21         5\n",
       "22         0\n",
       "23         0\n",
       "24         0\n",
       "25         0\n",
       "26         2\n",
       "27         0\n",
       "28         0\n",
       "29         0\n",
       "        ... \n",
       "40919      0\n",
       "40920      0\n",
       "40921      2\n",
       "40922      0\n",
       "40923      0\n",
       "40924     79\n",
       "40925      7\n",
       "40926      9\n",
       "40927     17\n",
       "40928     67\n",
       "40929     19\n",
       "40930    128\n",
       "40931    298\n",
       "40932      1\n",
       "40933     41\n",
       "40934      5\n",
       "40935      4\n",
       "40936    211\n",
       "40937     12\n",
       "40938      0\n",
       "40939     90\n",
       "40940      6\n",
       "40941      5\n",
       "40942    254\n",
       "40943      7\n",
       "40944      1\n",
       "40945      2\n",
       "40946     72\n",
       "40947     28\n",
       "40948     11\n",
       "Name: TargetVariable, Length: 40949, dtype: int64"
      ]
     },
     "execution_count": 61,
     "metadata": {},
     "output_type": "execute_result"
    }
   ],
   "source": [
    "read = pd.read_csv('Features_Variant_1.csv',delimiter=',', names=columns )\n",
    "read.head()\n",
    "target = read.TargetVariable\n",
    "target"
   ]
  },
  {
   "cell_type": "code",
   "execution_count": 114,
   "metadata": {},
   "outputs": [],
   "source": [
    "x = read.ix[:,0:53].values"
   ]
  },
  {
   "cell_type": "code",
   "execution_count": 164,
   "metadata": {},
   "outputs": [
    {
     "data": {
      "text/plain": [
       "91"
      ]
     },
     "execution_count": 164,
     "metadata": {},
     "output_type": "execute_result"
    }
   ],
   "source": [
    "from sklearn.neighbors import KNeighborsRegressor\n",
    "from sklearn.model_selection import train_test_split\n",
    "K = 9\n",
    "knn = KNeighborsRegressor(n_neighbors=K)\n",
    "knn.fit(x,target)\n",
    "target[199]\n"
   ]
  },
  {
   "cell_type": "code",
   "execution_count": 165,
   "metadata": {},
   "outputs": [
    {
     "data": {
      "text/plain": [
       "array([ 167.22222222])"
      ]
     },
     "execution_count": 165,
     "metadata": {},
     "output_type": "execute_result"
    }
   ],
   "source": [
    "knn.predict([x[199]])"
   ]
  },
  {
   "cell_type": "code",
   "execution_count": null,
   "metadata": {},
   "outputs": [],
   "source": []
  }
 ],
 "metadata": {
  "kernelspec": {
   "display_name": "Python 3",
   "language": "python",
   "name": "python3"
  },
  "language_info": {
   "codemirror_mode": {
    "name": "ipython",
    "version": 3
   },
   "file_extension": ".py",
   "mimetype": "text/x-python",
   "name": "python",
   "nbconvert_exporter": "python",
   "pygments_lexer": "ipython3",
   "version": "3.5.2"
  }
 },
 "nbformat": 4,
 "nbformat_minor": 2
}
