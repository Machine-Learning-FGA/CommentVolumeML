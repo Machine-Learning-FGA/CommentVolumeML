{
 "cells": [
  {
   "cell_type": "markdown",
   "metadata": {},
   "source": [
    "# Algoritmo K-nearest neighbors\n",
    "\n",
    "No reconhecimento de padrões o algoritmo KNN é um método não para-métrico usado para classificação e regressão.\n",
    "Nos dois casos, o input consiste nos k exemplos de treinamento mais proximos no espaço de amostragem. O output depende se o Knn é usado para classificação ou regressão.\n",
    "\n",
    "KNN é um tipo de aprendizado baseado em instâncias, onde a função é aproximada apenas localmente e toda a computação é deferida até a classificação."
   ]
  },
  {
   "cell_type": "code",
   "execution_count": 36,
   "metadata": {},
   "outputs": [
    {
     "data": {
      "text/plain": [
       "array([ 1,  3,  5,  7,  9, 11, 13])"
      ]
     },
     "execution_count": 36,
     "metadata": {},
     "output_type": "execute_result"
    }
   ],
   "source": [
    "import pandas as pd\n",
    "import numpy\n",
    "\n",
    "from sklearn.neighbors import KNeighborsRegressor\n",
    "from sklearn.model_selection import train_test_split\n",
    "\n",
    "import math \n",
    "%matplotlib inline\n",
    "import matplotlib.pyplot as plt\n",
    "\n"
   ]
  },
  {
   "cell_type": "code",
   "execution_count": 4,
   "metadata": {},
   "outputs": [],
   "source": [
    "columns = [\"Page Popularity/likes\", \"PageCheckinsâ€™s\", \"Pagetalkingabout\",\n",
    "           \"Page Category\", \"Derived\", \"Derived\", \"Derived\", \"Derived\",\n",
    "           \"Derived\", \"Derived\", \"Derived\", \"Derived\", \"Derived\",\n",
    "           \"Derived\", \"Derived\", \"Derived\", \"Derived\", \"Derived\", \n",
    "           \"Derived\", \"Derived\", \"Derived\", \"Derived\", \"Derived\", \n",
    "           \"Derived\", \"Derived\", \"Derived\", \"Derived\", \"Derived\",\n",
    "           \"Derived\", \"CC1\", \"CC2\", \"CC3\", \"CC4\", \"CC5\", \"Basetime\",\n",
    "           \"Postlength\", \"PostShareCount\", \"PostPromotionStatus\", \"HLocal\",\n",
    "           \"PostSunday\", \"PostMonday\", \"PostTuesday\", \"PostWednesday\", \"PostThursday\", \"PostFriday\", \"PostSaturday\",\n",
    "           \"BaseSunday\", \"BaseMonday\", \"BaseTuesday\", \"BaseWednesday\", \"BaseThursday\", \"BaseFriday\", \"BaseSaturday\",\n",
    "           \"TargetVariable\"]"
   ]
  },
  {
   "cell_type": "markdown",
   "metadata": {},
   "source": [
    "## Train"
   ]
  },
  {
   "cell_type": "code",
   "execution_count": 5,
   "metadata": {},
   "outputs": [],
   "source": [
    "data_frame = pd.read_csv('Features_Variant_1.csv',delimiter=',', names=columns )\n",
    "target = data_frame.TargetVariable\n",
    "x = data_frame.drop('TargetVariable', 1)"
   ]
  },
  {
   "cell_type": "markdown",
   "metadata": {},
   "source": [
    "## Teste"
   ]
  },
  {
   "cell_type": "code",
   "execution_count": 6,
   "metadata": {},
   "outputs": [],
   "source": [
    "teste = pd.read_csv('Features_Variant_2.csv',delimiter=',', names=columns )\n",
    "target2 = teste.TargetVariable\n",
    "y = teste.drop('TargetVariable', 1)"
   ]
  },
  {
   "cell_type": "code",
   "execution_count": 58,
   "metadata": {
    "scrolled": false
   },
   "outputs": [
    {
     "name": "stdout",
     "output_type": "stream",
     "text": [
      "ideal K:  5\n"
     ]
    },
    {
     "data": {
      "text/plain": [
       "[<matplotlib.lines.Line2D at 0x7fd9fbc4a128>]"
      ]
     },
     "execution_count": 58,
     "metadata": {},
     "output_type": "execute_result"
    },
    {
     "data": {
      "image/png": "[encoded data removed]",
      "text/plain": [
       "<matplotlib.figure.Figure at 0x7fd9fc109710>"
      ]
     },
     "metadata": {},
     "output_type": "display_data"
    }
   ],
   "source": [
    "def idealK(x,target,y,target2):\n",
    "    K = 1\n",
    "    ab = 0\n",
    "    vetScore = []\n",
    "    for i in range(200):\n",
    "        knn = KNeighborsRegressor(n_neighbors=K)\n",
    "        knn.fit(x,target)\n",
    "        score = knn.score(y,target2)\n",
    "        vetScore.append(score)\n",
    "        if score > ab:\n",
    "            ab = score\n",
    "            d = K\n",
    "        K += 2\n",
    "    return d,vetScore\n",
    "D = numpy.arange(1, 400, 2)\n",
    "K,score = idealK(x,target,y,target2)\n",
    "print(\"ideal K: \",K)\n",
    "plt.plot(D,score)"
   ]
  },
  {
   "cell_type": "code",
   "execution_count": 87,
   "metadata": {},
   "outputs": [
    {
     "data": {
      "image/png": "[encoded data removed]",
      "text/plain": [
       "<matplotlib.figure.Figure at 0x7fd9fc12d6d8>"
      ]
     },
     "metadata": {},
     "output_type": "display_data"
    }
   ],
   "source": [
    "def regressionKnn(x,target,y,target2):\n",
    "    knn = KNeighborsRegressor(n_neighbors=5)\n",
    "    knn.fit(x,target)\n",
    "    vetPredict = knn.predict(y)  \n",
    "    D = numpy.arange(0,81312)\n",
    "    P = list(target2)\n",
    "    plt.plot(D,p)\n",
    "    plt.plot(D,vetPredict)\n",
    "    \n",
    "regressionKnn(x,target,y,target2)\n"
   ]
  },
  {
   "cell_type": "code",
   "execution_count": null,
   "metadata": {},
   "outputs": [],
   "source": []
  }
 ],
 "metadata": {
  "kernelspec": {
   "display_name": "Python 3",
   "language": "python",
   "name": "python3"
  },
  "language_info": {
   "codemirror_mode": {
    "name": "ipython",
    "version": 3
   },
   "file_extension": ".py",
   "mimetype": "text/x-python",
   "name": "python",
   "nbconvert_exporter": "python",
   "pygments_lexer": "ipython3",
   "version": "3.5.2"
  }
 },
 "nbformat": 4,
 "nbformat_minor": 2
}
